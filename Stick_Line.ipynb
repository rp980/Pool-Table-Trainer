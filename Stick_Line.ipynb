{
  "nbformat": 4,
  "nbformat_minor": 0,
  "metadata": {
    "colab": {
      "provenance": [],
      "gpuClass": "premium"
    },
    "kernelspec": {
      "name": "python3",
      "display_name": "Python 3"
    },
    "language_info": {
      "name": "python"
    },
    "gpuClass": "premium"
  },
  "cells": [
    {
      "cell_type": "code",
      "source": [
        "from google.colab import files\n",
        "import zipfile\n",
        "from google.colab import drive\n",
        "\n",
        "import os\n",
        "import numpy as np\n",
        "import cv2\n",
        "import torchvision.models.segmentation\n",
        "import torch\n",
        "import torchvision.transforms as tf\n",
        "import matplotlib.pyplot as plt\n",
        "from PIL.Image import ImageTransformHandler\n",
        "from skimage import transform\n",
        "from numpy.linalg import inv\n",
        "from numpy import random as r\n",
        "from PIL import Image\n",
        "from skimage import draw\n",
        "from scipy.ndimage import gaussian_filter\n",
        "from google.colab.patches import cv2_imshow\n"
      ],
      "metadata": {
        "id": "BbA_8BbbTv3G"
      },
      "execution_count": null,
      "outputs": []
    },
    {
      "cell_type": "code",
      "source": [
        "def detect_ball():\n",
        "  params = cv2.SimpleBlobDetector_Params()\n",
        "  params.minThreshold = 0\n",
        "  params.maxThreshold = 256\n",
        "  params.thresholdStep = 1\n",
        "  params.filterByArea = True\n",
        "  params.minArea = 1500\n",
        "  params.filterByCircularity = False\n",
        "  params.minCircularity = 0.3\n",
        "  params.filterByConvexity = True\n",
        "  params.minConvexity = 0.8\n",
        "  params.filterByInertia = False\n",
        "  # params.minInertiaRatio = 0\n",
        "  # params.maxInertiaRatio = 1\n",
        "\n",
        "  detector = cv2.SimpleBlobDetector_create(params)\n",
        "  im = cv2.imread('ball_blob.jpg', cv2.IMREAD_GRAYSCALE)\n",
        "  keypts = detector.detect(im)\n",
        "  im_with_keypoints = cv2.drawKeypoints(im, keypts, np.array([]), (0,0,255), cv2.DRAW_MATCHES_FLAGS_DRAW_RICH_KEYPOINTS)\n",
        "  cv2_imshow(im_with_keypoints)\n",
        "  return keypts, im_with_keypoints\n",
        "\n",
        "def detect_stick():\n",
        "  params = cv2.SimpleBlobDetector_Params()\n",
        "  params.minThreshold = 0\n",
        "  params.maxThreshold = 256\n",
        "  params.thresholdStep = 1\n",
        "  params.filterByArea = False\n",
        "  params.minArea = 1500\n",
        "  params.filterByCircularity = False\n",
        "  params.minCircularity = 0.3\n",
        "  params.filterByConvexity = False\n",
        "  params.minConvexity = 0.8\n",
        "  params.filterByInertia = False\n",
        "  # params.minInertiaRatio = 0\n",
        "  # params.maxInertiaRatio = 1\n",
        "\n",
        "  detector = cv2.SimpleBlobDetector_create(params)\n",
        "  im = cv2.imread('stick_blob.jpg', cv2.IMREAD_GRAYSCALE)\n",
        "\n",
        "  keypts = detector.detect(im)\n",
        "  im_with_keypoints = cv2.drawKeypoints(im, keypts, np.array([]), (0,0,255), cv2.DRAW_MATCHES_FLAGS_DRAW_RICH_KEYPOINTS)\n",
        "  cv2_imshow(im_with_keypoints)\n",
        "  return keypts, im_with_keypoints"
      ],
      "metadata": {
        "id": "ow6AcoRumZPY"
      },
      "execution_count": null,
      "outputs": []
    },
    {
      "cell_type": "code",
      "source": [
        "stick_keys, stick_with_keypts = detect_stick()\n",
        "ball_keys, ball_with_keypts = detect_ball()\n",
        "\n",
        "ball_coords = []\n",
        "for kpt in ball_keys:\n",
        "  ball_coords.append(kpt.pt)\n",
        "\n",
        "stick_pts = []\n",
        "for kpt in stick_keys:\n",
        "  stick_pts.append(kpt.pt)"
      ],
      "metadata": {
        "colab": {
          "base_uri": "https://localhost:8080/",
          "height": 365
        },
        "id": "5v7HK3miolWm",
        "outputId": "3fe12286-5cfa-436c-c8e7-010b8238af4a"
      },
      "execution_count": null,
      "outputs": [
        {
          "output_type": "error",
          "ename": "error",
          "evalue": "ignored",
          "traceback": [
            "\u001b[0;31m---------------------------------------------------------------------------\u001b[0m",
            "\u001b[0;31merror\u001b[0m                                     Traceback (most recent call last)",
            "\u001b[0;32m<ipython-input-3-88364fb242c3>\u001b[0m in \u001b[0;36m<cell line: 1>\u001b[0;34m()\u001b[0m\n\u001b[0;32m----> 1\u001b[0;31m \u001b[0mstick_keys\u001b[0m\u001b[0;34m,\u001b[0m \u001b[0mstick_with_keypts\u001b[0m \u001b[0;34m=\u001b[0m \u001b[0mdetect_stick\u001b[0m\u001b[0;34m(\u001b[0m\u001b[0;34m)\u001b[0m\u001b[0;34m\u001b[0m\u001b[0;34m\u001b[0m\u001b[0m\n\u001b[0m\u001b[1;32m      2\u001b[0m \u001b[0mball_keys\u001b[0m\u001b[0;34m,\u001b[0m \u001b[0mball_with_keypts\u001b[0m \u001b[0;34m=\u001b[0m \u001b[0mdetect_ball\u001b[0m\u001b[0;34m(\u001b[0m\u001b[0;34m)\u001b[0m\u001b[0;34m\u001b[0m\u001b[0;34m\u001b[0m\u001b[0m\n\u001b[1;32m      3\u001b[0m \u001b[0;34m\u001b[0m\u001b[0m\n\u001b[1;32m      4\u001b[0m \u001b[0mball_coords\u001b[0m \u001b[0;34m=\u001b[0m \u001b[0;34m[\u001b[0m\u001b[0;34m]\u001b[0m\u001b[0;34m\u001b[0m\u001b[0;34m\u001b[0m\u001b[0m\n\u001b[1;32m      5\u001b[0m \u001b[0;32mfor\u001b[0m \u001b[0mkpt\u001b[0m \u001b[0;32min\u001b[0m \u001b[0mball_keys\u001b[0m\u001b[0;34m:\u001b[0m\u001b[0;34m\u001b[0m\u001b[0;34m\u001b[0m\u001b[0m\n",
            "\u001b[0;32m<ipython-input-2-0501e4545130>\u001b[0m in \u001b[0;36mdetect_stick\u001b[0;34m()\u001b[0m\n\u001b[1;32m     40\u001b[0m \u001b[0;34m\u001b[0m\u001b[0m\n\u001b[1;32m     41\u001b[0m   \u001b[0mkeypts\u001b[0m \u001b[0;34m=\u001b[0m \u001b[0mdetector\u001b[0m\u001b[0;34m.\u001b[0m\u001b[0mdetect\u001b[0m\u001b[0;34m(\u001b[0m\u001b[0mim\u001b[0m\u001b[0;34m)\u001b[0m\u001b[0;34m\u001b[0m\u001b[0;34m\u001b[0m\u001b[0m\n\u001b[0;32m---> 42\u001b[0;31m   \u001b[0mim_with_keypoints\u001b[0m \u001b[0;34m=\u001b[0m \u001b[0mcv2\u001b[0m\u001b[0;34m.\u001b[0m\u001b[0mdrawKeypoints\u001b[0m\u001b[0;34m(\u001b[0m\u001b[0mim\u001b[0m\u001b[0;34m,\u001b[0m \u001b[0mkeypts\u001b[0m\u001b[0;34m,\u001b[0m \u001b[0mnp\u001b[0m\u001b[0;34m.\u001b[0m\u001b[0marray\u001b[0m\u001b[0;34m(\u001b[0m\u001b[0;34m[\u001b[0m\u001b[0;34m]\u001b[0m\u001b[0;34m)\u001b[0m\u001b[0;34m,\u001b[0m \u001b[0;34m(\u001b[0m\u001b[0;36m0\u001b[0m\u001b[0;34m,\u001b[0m\u001b[0;36m0\u001b[0m\u001b[0;34m,\u001b[0m\u001b[0;36m255\u001b[0m\u001b[0;34m)\u001b[0m\u001b[0;34m,\u001b[0m \u001b[0mcv2\u001b[0m\u001b[0;34m.\u001b[0m\u001b[0mDRAW_MATCHES_FLAGS_DRAW_RICH_KEYPOINTS\u001b[0m\u001b[0;34m)\u001b[0m\u001b[0;34m\u001b[0m\u001b[0;34m\u001b[0m\u001b[0m\n\u001b[0m\u001b[1;32m     43\u001b[0m   \u001b[0mcv2_imshow\u001b[0m\u001b[0;34m(\u001b[0m\u001b[0mim_with_keypoints\u001b[0m\u001b[0;34m)\u001b[0m\u001b[0;34m\u001b[0m\u001b[0;34m\u001b[0m\u001b[0m\n\u001b[1;32m     44\u001b[0m   \u001b[0;32mreturn\u001b[0m \u001b[0mkeypts\u001b[0m\u001b[0;34m,\u001b[0m \u001b[0mim_with_keypoints\u001b[0m\u001b[0;34m\u001b[0m\u001b[0;34m\u001b[0m\u001b[0m\n",
            "\u001b[0;31merror\u001b[0m: OpenCV(4.7.0) /io/opencv/modules/imgproc/src/color.cpp:182: error: (-215:Assertion failed) !_src.empty() in function 'cvtColor'\n"
          ]
        }
      ]
    },
    {
      "cell_type": "code",
      "source": [
        "# CODE to get linear set of points for plotting\n",
        "from statistics import mean\n",
        "import numpy as np\n",
        "stick_coords_x = []\n",
        "stick_coords_y = []\n",
        "for i in stick_pts:\n",
        "  stick_coords_x.append(i[0])\n",
        "  stick_coords_y.append(i[1])\n",
        "\n",
        "stick_coords_x = np.array(stick_coords_x)\n",
        "stick_coords_y = np.array(stick_coords_y)\n",
        "\n",
        "\n",
        "def best_fit_line_extreme_points(x,y):\n",
        "  m = (((mean(x)*mean(y)) - mean(np.multiply(x,y))) / ((mean(x)*mean(x)) - mean(np.multiply(x,x))))\n",
        "  b = mean(y) - m*mean(x)\n",
        "  min_x = min(x)\n",
        "  max_x = max(x)\n",
        "  extremepoints = []\n",
        "  extremepoints.append(tuple((min_x, min_x * m + b)))\n",
        "  extremepoints.append(tuple((max_x, max_x * m + b)))\n",
        "  return extremepoints\n",
        "\n",
        "best_fit_line_extreme_points(stick_coords_x, stick_coords_y)"
      ],
      "metadata": {
        "id": "Oo3qca-jq2ZO",
        "colab": {
          "base_uri": "https://localhost:8080/",
          "height": 240
        },
        "outputId": "9e3e9d1d-392c-40bc-fe9d-2978c2bf54ac"
      },
      "execution_count": null,
      "outputs": [
        {
          "output_type": "error",
          "ename": "NameError",
          "evalue": "ignored",
          "traceback": [
            "\u001b[0;31m---------------------------------------------------------------------------\u001b[0m",
            "\u001b[0;31mNameError\u001b[0m                                 Traceback (most recent call last)",
            "\u001b[0;32m<ipython-input-6-a0d0772611c9>\u001b[0m in \u001b[0;36m<cell line: 6>\u001b[0;34m()\u001b[0m\n\u001b[1;32m      4\u001b[0m \u001b[0mstick_coords_x\u001b[0m \u001b[0;34m=\u001b[0m \u001b[0;34m[\u001b[0m\u001b[0;34m]\u001b[0m\u001b[0;34m\u001b[0m\u001b[0;34m\u001b[0m\u001b[0m\n\u001b[1;32m      5\u001b[0m \u001b[0mstick_coords_y\u001b[0m \u001b[0;34m=\u001b[0m \u001b[0;34m[\u001b[0m\u001b[0;34m]\u001b[0m\u001b[0;34m\u001b[0m\u001b[0;34m\u001b[0m\u001b[0m\n\u001b[0;32m----> 6\u001b[0;31m \u001b[0;32mfor\u001b[0m \u001b[0mi\u001b[0m \u001b[0;32min\u001b[0m \u001b[0mstick_pts\u001b[0m\u001b[0;34m:\u001b[0m\u001b[0;34m\u001b[0m\u001b[0;34m\u001b[0m\u001b[0m\n\u001b[0m\u001b[1;32m      7\u001b[0m   \u001b[0mstick_coords_x\u001b[0m\u001b[0;34m.\u001b[0m\u001b[0mappend\u001b[0m\u001b[0;34m(\u001b[0m\u001b[0mi\u001b[0m\u001b[0;34m[\u001b[0m\u001b[0;36m0\u001b[0m\u001b[0;34m]\u001b[0m\u001b[0;34m)\u001b[0m\u001b[0;34m\u001b[0m\u001b[0;34m\u001b[0m\u001b[0m\n\u001b[1;32m      8\u001b[0m   \u001b[0mstick_coords_y\u001b[0m\u001b[0;34m.\u001b[0m\u001b[0mappend\u001b[0m\u001b[0;34m(\u001b[0m\u001b[0mi\u001b[0m\u001b[0;34m[\u001b[0m\u001b[0;36m1\u001b[0m\u001b[0;34m]\u001b[0m\u001b[0;34m)\u001b[0m\u001b[0;34m\u001b[0m\u001b[0;34m\u001b[0m\u001b[0m\n",
            "\u001b[0;31mNameError\u001b[0m: name 'stick_pts' is not defined"
          ]
        }
      ]
    },
    {
      "cell_type": "code",
      "source": [],
      "metadata": {
        "id": "qPuGJslrM-te"
      },
      "execution_count": null,
      "outputs": []
    },
    {
      "cell_type": "code",
      "source": [
        "grid = np.zeros([4032, 3024])\n",
        "for pt in ball_coords:\n",
        "  pt_t = [pt[0], pt[1] + 100] # ball offset 100 pixels\n",
        "  rr, cc = draw.disk(pt_t, 25, shape=grid.shape);\n",
        "  grid[rr, cc] = 255\n",
        "\n",
        "for pt in stick_pts:\n",
        "  rr, cc = draw.disk(pt, 10, shape=grid.shape);\n",
        "  grid[rr, cc] = 50\n",
        "\n",
        "im = Image.fromarray(grid.transpose())\n",
        "im.show()"
      ],
      "metadata": {
        "colab": {
          "base_uri": "https://localhost:8080/",
          "height": 240
        },
        "id": "1eLLVGS1s5kR",
        "outputId": "380393ba-632c-4069-aca6-de9c332cce6e"
      },
      "execution_count": null,
      "outputs": [
        {
          "output_type": "error",
          "ename": "NameError",
          "evalue": "ignored",
          "traceback": [
            "\u001b[0;31m---------------------------------------------------------------------------\u001b[0m",
            "\u001b[0;31mNameError\u001b[0m                                 Traceback (most recent call last)",
            "\u001b[0;32m<ipython-input-1-b3de4b13b51c>\u001b[0m in \u001b[0;36m<cell line: 1>\u001b[0;34m()\u001b[0m\n\u001b[0;32m----> 1\u001b[0;31m \u001b[0mgrid\u001b[0m \u001b[0;34m=\u001b[0m \u001b[0mnp\u001b[0m\u001b[0;34m.\u001b[0m\u001b[0mzeros\u001b[0m\u001b[0;34m(\u001b[0m\u001b[0;34m[\u001b[0m\u001b[0;36m4032\u001b[0m\u001b[0;34m,\u001b[0m \u001b[0;36m3024\u001b[0m\u001b[0;34m]\u001b[0m\u001b[0;34m)\u001b[0m\u001b[0;34m\u001b[0m\u001b[0;34m\u001b[0m\u001b[0m\n\u001b[0m\u001b[1;32m      2\u001b[0m \u001b[0;32mfor\u001b[0m \u001b[0mpt\u001b[0m \u001b[0;32min\u001b[0m \u001b[0mball_coords\u001b[0m\u001b[0;34m:\u001b[0m\u001b[0;34m\u001b[0m\u001b[0;34m\u001b[0m\u001b[0m\n\u001b[1;32m      3\u001b[0m   \u001b[0mpt_t\u001b[0m \u001b[0;34m=\u001b[0m \u001b[0;34m[\u001b[0m\u001b[0mpt\u001b[0m\u001b[0;34m[\u001b[0m\u001b[0;36m0\u001b[0m\u001b[0;34m]\u001b[0m\u001b[0;34m,\u001b[0m \u001b[0mpt\u001b[0m\u001b[0;34m[\u001b[0m\u001b[0;36m1\u001b[0m\u001b[0;34m]\u001b[0m \u001b[0;34m+\u001b[0m \u001b[0;36m100\u001b[0m\u001b[0;34m]\u001b[0m \u001b[0;31m# ball offset 100 pixels\u001b[0m\u001b[0;34m\u001b[0m\u001b[0;34m\u001b[0m\u001b[0m\n\u001b[1;32m      4\u001b[0m   \u001b[0mrr\u001b[0m\u001b[0;34m,\u001b[0m \u001b[0mcc\u001b[0m \u001b[0;34m=\u001b[0m \u001b[0mdraw\u001b[0m\u001b[0;34m.\u001b[0m\u001b[0mdisk\u001b[0m\u001b[0;34m(\u001b[0m\u001b[0mpt_t\u001b[0m\u001b[0;34m,\u001b[0m \u001b[0;36m25\u001b[0m\u001b[0;34m,\u001b[0m \u001b[0mshape\u001b[0m\u001b[0;34m=\u001b[0m\u001b[0mgrid\u001b[0m\u001b[0;34m.\u001b[0m\u001b[0mshape\u001b[0m\u001b[0;34m)\u001b[0m\u001b[0;34m;\u001b[0m\u001b[0;34m\u001b[0m\u001b[0;34m\u001b[0m\u001b[0m\n\u001b[1;32m      5\u001b[0m   \u001b[0mgrid\u001b[0m\u001b[0;34m[\u001b[0m\u001b[0mrr\u001b[0m\u001b[0;34m,\u001b[0m \u001b[0mcc\u001b[0m\u001b[0;34m]\u001b[0m \u001b[0;34m=\u001b[0m \u001b[0;36m255\u001b[0m\u001b[0;34m\u001b[0m\u001b[0;34m\u001b[0m\u001b[0m\n",
            "\u001b[0;31mNameError\u001b[0m: name 'np' is not defined"
          ]
        }
      ]
    },
    {
      "cell_type": "code",
      "source": [
        "len(ball_coords)"
      ],
      "metadata": {
        "colab": {
          "base_uri": "https://localhost:8080/"
        },
        "id": "lx_8SI7jykg5",
        "outputId": "97f50796-89d6-440a-cea3-560968c54362"
      },
      "execution_count": null,
      "outputs": [
        {
          "output_type": "execute_result",
          "data": {
            "text/plain": [
              "12"
            ]
          },
          "metadata": {},
          "execution_count": 8
        }
      ]
    },
    {
      "cell_type": "code",
      "source": [
        "def trajectory_path(x,y):\n",
        "  m = (((mean(x)*mean(y)) - mean(np.multiply(x,y))) / ((mean(x)*mean(x)) - mean(np.multiply(x,x))))\n",
        "  b = mean(y) - m*mean(x)\n",
        "  max_x = max(x)\n",
        "  extremepoints = []\n",
        "  extremepoints.append(tuple((max_x, max_x * m + b)))\n",
        "  return extremepoints"
      ],
      "metadata": {
        "id": "4PsSSydFztiq"
      },
      "execution_count": null,
      "outputs": []
    },
    {
      "cell_type": "code",
      "source": [],
      "metadata": {
        "id": "qjlw55_-QIaA"
      },
      "execution_count": null,
      "outputs": []
    }
  ]
}